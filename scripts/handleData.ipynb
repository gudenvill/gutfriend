{
 "cells": [
  {
   "cell_type": "code",
   "execution_count": 9,
   "metadata": {},
   "outputs": [
    {
     "name": "stdout",
     "output_type": "stream",
     "text": [
      "             datetime      open      high       low     close     volume  \\\n",
      "0 2024-01-01 08:00:00  42492.46  42529.91  42452.58  42514.28  137.17234   \n",
      "1 2024-01-01 08:15:00  42514.28  42537.53  42477.60  42482.00   93.47006   \n",
      "2 2024-01-01 08:30:00  42482.00  42504.79  42461.10  42492.91   89.52769   \n",
      "3 2024-01-01 08:45:00  42492.91  42556.50  42489.95  42549.99  107.02356   \n",
      "4 2024-01-01 09:00:00  42550.00  42577.88  42537.18  42574.24  151.36603   \n",
      "\n",
      "   adj_close  \n",
      "0   42514.28  \n",
      "1   42482.00  \n",
      "2   42492.91  \n",
      "3   42549.99  \n",
      "4   42574.24  \n"
     ]
    }
   ],
   "source": [
    "import requests\n",
    "import json\n",
    "import pandas as pd\n",
    "import datetime as dt\n",
    "\n",
    "def get_binance_bars(symbol, interval, startTime, endTime):\n",
    "    url = \"https://api.binance.com/api/v1/klines\"\n",
    "    \n",
    "    # Konvertieren der Start- und Endzeiten in Millisekunden\n",
    "    startTime = str(int(startTime.timestamp() * 1000))\n",
    "    endTime = str(int(endTime.timestamp() * 1000))\n",
    "    limit = '10000'\n",
    "    \n",
    "    # Erstellen der Anfrageparameter\n",
    "    req_params = {'symbol': symbol, 'interval': interval, 'startTime': startTime, 'endTime': endTime, 'limit': limit}\n",
    "    \n",
    "    # Senden der Anfrage an die Binance API und Laden der Antwort in einen DataFrame\n",
    "    df = pd.DataFrame(json.loads(requests.get(url, params=req_params).text))\n",
    "    \n",
    "    # Überprüfen, ob der DataFrame leer ist\n",
    "    if df.empty:\n",
    "        return None\n",
    "    \n",
    "    # Verarbeiten der Daten und Umbenennen der Spalten\n",
    "    df = df.iloc[:, 0:6]\n",
    "    df.columns = ['datetime', 'open', 'high', 'low', 'close', 'volume']\n",
    "    \n",
    "    # Konvertieren der Spalten in die richtigen Datentypen\n",
    "    df['open'] = df['open'].astype(float)\n",
    "    df['high'] = df['high'].astype(float)\n",
    "    df['low'] = df['low'].astype(float)\n",
    "    df['close'] = df['close'].astype(float)\n",
    "    df['volume'] = df['volume'].astype(float)\n",
    "    \n",
    "    # Konvertieren der 'datetime' Spalte von Millisekunden seit Epoch zu einem lesbaren Datum\n",
    "    df['datetime'] = pd.to_datetime(df['datetime'], unit='ms')\n",
    "    \n",
    "    # Hinzufügen einer Spalte für den angepassten Schlusskurs\n",
    "    df['adj_close'] = df['close']\n",
    "    \n",
    "    return df\n",
    "\n",
    "# Beispiel für die Verwendung der Funktion\n",
    "if __name__ == \"__main__\":\n",
    "    symbol = 'BTCUSDT'\n",
    "    interval = '15m'\n",
    "    startTime = dt.datetime(2024, 1, 1)\n",
    "    endTime = dt.datetime(2024, 5, 1)\n",
    "    \n",
    "    df = get_binance_bars(symbol, interval, startTime, endTime)\n",
    "    if df is not None:\n",
    "        print(df.head())\n",
    "        df.to_csv('bitcoin_data_15m_2024.csv', index=False)\n",
    "    else:\n",
    "        print(\"Keine Daten gefunden.\")"
   ]
  },
  {
   "cell_type": "code",
   "execution_count": null,
   "metadata": {},
   "outputs": [],
   "source": []
  }
 ],
 "metadata": {
  "kernelspec": {
   "display_name": "Python 3",
   "language": "python",
   "name": "python3"
  },
  "language_info": {
   "codemirror_mode": {
    "name": "ipython",
    "version": 3
   },
   "file_extension": ".py",
   "mimetype": "text/x-python",
   "name": "python",
   "nbconvert_exporter": "python",
   "pygments_lexer": "ipython3",
   "version": "3.10.4"
  }
 },
 "nbformat": 4,
 "nbformat_minor": 2
}
